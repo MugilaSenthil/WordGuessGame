{
  "nbformat": 4,
  "nbformat_minor": 0,
  "metadata": {
    "colab": {
      "provenance": []
    },
    "kernelspec": {
      "name": "python3",
      "display_name": "Python 3"
    },
    "language_info": {
      "name": "python"
    }
  },
  "cells": [
    {
      "cell_type": "code",
      "execution_count": null,
      "metadata": {
        "colab": {
          "base_uri": "https://localhost:8080/"
        },
        "id": "3kKsrA3nMbJ3",
        "outputId": "31de0f64-ce82-4ec0-cfd9-6c45ac1b11ed"
      },
      "outputs": [
        {
          "output_type": "stream",
          "name": "stdout",
          "text": [
            "what is your name?Poona\n",
            "Good Luck! Poona\n",
            "guess the characters\n",
            "_\n",
            "_\n",
            "_\n",
            "_\n",
            "_\n",
            "_\n",
            "_\n",
            "\n",
            "guess the character:r\n",
            "r _\n",
            "_\n",
            "_\n",
            "_\n",
            "_\n",
            "_\n",
            "\n",
            "guess the character:a\n",
            "r a _\n",
            "_\n",
            "_\n",
            "_\n",
            "_\n",
            "\n",
            "guess the character:i\n",
            "r a i _\n",
            "_\n",
            "_\n",
            "_\n",
            "\n",
            "guess the character:n\n",
            "r a i n _\n",
            "_\n",
            "_\n",
            "\n",
            "guess the character:b\n",
            "r a i n b _\n",
            "_\n",
            "\n",
            "guess the character:o\n",
            "r a i n b o _\n",
            "\n",
            "guess the character:w\n",
            "r a i n b o w \n",
            "You win!\n",
            "The word is: rainbow\n"
          ]
        }
      ],
      "source": [
        "import random\n",
        "name=input(\"what is your name?\")\n",
        "print(\"Good Luck!\",name)\n",
        "words=['rainbow','computer','science','programming','python','mathematics','player','condition','reverse','water','board','geeks']\n",
        "#choose a random word from a list of words\n",
        "word=random.choice(words)\n",
        "print(\"guess the characters\")\n",
        "guesses=' '\n",
        "turns=12\n",
        "while turns > 0:\n",
        "  #count number of times a user fails\n",
        "  failed=0\n",
        "  #taking one character at a time\n",
        "  for char  in word:\n",
        "    #compare the character with character in guesses\n",
        "    if char in guesses:\n",
        "      print(char,end=\" \")\n",
        "    else:\n",
        "      print(\"_\")\n",
        "      #for every failure\n",
        "      failed+=1\n",
        "  if failed==0:\n",
        "    print(\"\\nYou win!\")\n",
        "    print(\"The word is:\",word)\n",
        "    break\n",
        "  #if user inputs wrong alphabet then ask to enter another alphabet\n",
        "  print()\n",
        "  guess=input(\"guess the character:\")\n",
        "  #every input character will be stored in guesses\n",
        "  guesses+=guess\n",
        "  if guess not in word:\n",
        "    turns-=1\n",
        "    #if character doesn't match the word\n",
        "    print(\"wrong\")\n",
        "    #no of turns left\n",
        "    print(\"You have\",+turns,'more guesses')\n",
        "    if turns==0:\n",
        "      print(\"You lose\")"
      ]
    }
  ]
}